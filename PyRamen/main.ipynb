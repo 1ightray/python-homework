{
 "cells": [
  {
   "cell_type": "code",
   "execution_count": null,
   "id": "2439a380-74b0-4409-8cc6-56d732c0ed53",
   "metadata": {},
   "outputs": [],
   "source": [
    "add "
   ]
  }
 ],
 "metadata": {
  "kernelspec": {
   "display_name": "Python 3",
   "language": "python",
   "name": "python3"
  },
  "language_info": {
   "codemirror_mode": {
    "name": "ipython",
    "version": 3
   },
   "file_extension": ".py",
   "mimetype": "text/x-python",
   "name": "python",
   "nbconvert_exporter": "python",
   "pygments_lexer": "ipython3",
   "version": "3.8.8"
  }
 },
 "nbformat": 4,
 "nbformat_minor": 5
}
